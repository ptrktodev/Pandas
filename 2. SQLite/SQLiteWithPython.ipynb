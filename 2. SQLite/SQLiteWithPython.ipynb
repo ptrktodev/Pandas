{
 "cells": [
  {
   "cell_type": "markdown",
   "id": "4ec46204",
   "metadata": {},
   "source": [
    "## SQLite com Python no VSCode  🐍"
   ]
  },
  {
   "cell_type": "markdown",
   "id": "c6e0b0ad",
   "metadata": {},
   "source": [
    "<img src='SQLitePython.png' width='500rem'>"
   ]
  },
  {
   "cell_type": "markdown",
   "id": "ea2b9818",
   "metadata": {},
   "source": [
    "Extensão utilizada no VSCODE para visualização das tabelas no BD:\n",
    "- SQLite (https://marketplace.visualstudio.com/items?itemName=alexcvzz.vscode-sqlite)"
   ]
  },
  {
   "cell_type": "markdown",
   "id": "18c9a792",
   "metadata": {},
   "source": [
    "📍 Primeiramente, importe ambas bibliotecas que serão usadas:"
   ]
  },
  {
   "cell_type": "code",
   "execution_count": 3,
   "id": "41144efe",
   "metadata": {},
   "outputs": [],
   "source": [
    "import pandas as pd \n",
    "import sqlite3 as sql # DOC: https://docs.python.org/3/library/sqlite3.html"
   ]
  },
  {
   "cell_type": "markdown",
   "id": "06c2d1bb",
   "metadata": {},
   "source": [
    "📍 Com isso, precisamos criar um novo banco de dados e abrir uma conexão."
   ]
  },
  {
   "cell_type": "code",
   "execution_count": 22,
   "id": "eb6ed917",
   "metadata": {},
   "outputs": [],
   "source": [
    "# connectDB = sql.connect(\"new.BD\")"
   ]
  },
  {
   "cell_type": "markdown",
   "id": "98c771ef",
   "metadata": {},
   "source": [
    "<img src='img/ex3.png' width='300rem'>"
   ]
  },
  {
   "cell_type": "markdown",
   "id": "7b7829af",
   "metadata": {},
   "source": [
    "📍 Cada mudança ou alteração no DB precisa ser commitado, assim utilize sempre:"
   ]
  },
  {
   "cell_type": "code",
   "execution_count": 5,
   "id": "ecf1a70f",
   "metadata": {},
   "outputs": [],
   "source": [
    "# connectDB.commit()"
   ]
  },
  {
   "cell_type": "markdown",
   "id": "9d5066dd",
   "metadata": {},
   "source": [
    "📍 Se caso tiver um DataFrame que queira tranformar em uma tabela no DB, use: "
   ]
  },
  {
   "cell_type": "code",
   "execution_count": 8,
   "id": "814eeb05",
   "metadata": {},
   "outputs": [],
   "source": [
    "# DataFrame.to_sql('nome_tabela_DB', con=connectDB)"
   ]
  },
  {
   "cell_type": "markdown",
   "id": "53c51660",
   "metadata": {},
   "source": [
    "📍 Para começar a conversar em linguagem SQL, precisamos de um cursor que permita isso:"
   ]
  },
  {
   "cell_type": "code",
   "execution_count": 9,
   "id": "f3c6fd3a",
   "metadata": {},
   "outputs": [],
   "source": [
    "# sqlComands = connectDB.cursor()"
   ]
  },
  {
   "cell_type": "markdown",
   "id": "237dd8c8",
   "metadata": {},
   "source": [
    "📍 Para você mesmo criar uma tabela no DB, use:\n",
    "> ❗ Atenção: aqui está uma lista com os tipos de dados: bit.ly/3PwHWw3"
   ]
  },
  {
   "cell_type": "code",
   "execution_count": 15,
   "id": "8b5abafc",
   "metadata": {},
   "outputs": [],
   "source": [
    "# sqlComands.execute(\"CREATE TABLE nome_table ([coluna1] INTEGER PRIMARY KEY, [coluna2] TEXT, [coluna3] INTEGER)\")"
   ]
  },
  {
   "cell_type": "markdown",
   "id": "b8c045ee",
   "metadata": {},
   "source": [
    "<img src='img/ex2.png' width='200rem'>"
   ]
  },
  {
   "cell_type": "markdown",
   "id": "cdf1a348",
   "metadata": {},
   "source": [
    "📍 Agora, aprenda a inserir dados nessa tabela, então use: "
   ]
  },
  {
   "cell_type": "code",
   "execution_count": 16,
   "id": "646204d3",
   "metadata": {},
   "outputs": [],
   "source": [
    "# sqlComands.execute(\"INSERT INTO products (coluna1, coluna2, coluna3) VALUES (1, 'Mouse', 59.99), (2, 'Teclado', 49.99), (3, 'Monitor', 99.99)\")"
   ]
  },
  {
   "cell_type": "markdown",
   "id": "b118180e",
   "metadata": {},
   "source": [
    "<img src='img/ex1.png' width='200rem'>"
   ]
  },
  {
   "cell_type": "markdown",
   "id": "c0948dfb",
   "metadata": {},
   "source": [
    "📍 Para selecionar colunas nessa tabela, use:"
   ]
  },
  {
   "cell_type": "code",
   "execution_count": 17,
   "id": "aa3b73e8",
   "metadata": {},
   "outputs": [],
   "source": [
    "# df1 = pd.read_sql(\"SELECT * FROM products\", connectDB)"
   ]
  },
  {
   "cell_type": "markdown",
   "id": "a94fe18e",
   "metadata": {},
   "source": [
    "📍 Agora, se deseja fazer uma seleção filtrada, então utilize:"
   ]
  },
  {
   "cell_type": "code",
   "execution_count": 23,
   "id": "b04eb5b2",
   "metadata": {},
   "outputs": [],
   "source": [
    "# df1 = pd.read_sql(\"SELECT * FROM products WHERE price > 100\", connectDB)"
   ]
  },
  {
   "cell_type": "markdown",
   "id": "1032a44a",
   "metadata": {},
   "source": [
    "<img src='img/ex5.png' width='200rem'>"
   ]
  },
  {
   "cell_type": "markdown",
   "id": "de292235",
   "metadata": {},
   "source": [
    "📍 Na filtração, também podemos usar uma composição, veja abaixo:"
   ]
  },
  {
   "cell_type": "code",
   "execution_count": 24,
   "id": "4e1ef24c",
   "metadata": {},
   "outputs": [],
   "source": [
    "# df1 = pd.read_sql(\"SELECT * FROM products WHERE price > 100 AND price < 160\", connectDB)"
   ]
  },
  {
   "cell_type": "markdown",
   "id": "51a79718",
   "metadata": {},
   "source": [
    "<img src='img/ex4.png' width='200rem'>"
   ]
  },
  {
   "cell_type": "markdown",
   "id": "e2f0d62c",
   "metadata": {},
   "source": [
    "📍 Caso queira ATUALIZAR o valor de uma célula na tabela, use:"
   ]
  },
  {
   "cell_type": "code",
   "execution_count": 26,
   "id": "3e269dea",
   "metadata": {},
   "outputs": [],
   "source": [
    "# new_value = 29.99\n",
    "# sqlComands.execute(f\"UPDATE products SET price={new_value} WHERE product_id=1\")\n",
    "\n",
    "# sqlComands.execute(f\"UPDATE products SET price={new_value}, product_name=\"new_name\" WHERE product_id=1\")"
   ]
  },
  {
   "cell_type": "markdown",
   "id": "ec753d57",
   "metadata": {},
   "source": [
    "📍 Caso queira DELETAR linhas de uma tabela, use:"
   ]
  },
  {
   "cell_type": "code",
   "execution_count": 27,
   "id": "2cc9625f",
   "metadata": {},
   "outputs": [],
   "source": [
    "# sqlComands.execute(\"DELETE FROM products WHERE product_id=6\")"
   ]
  },
  {
   "cell_type": "markdown",
   "id": "cf198083",
   "metadata": {},
   "source": [
    "<img src='img/ex6.png' width='300rem'>"
   ]
  },
  {
   "cell_type": "code",
   "execution_count": null,
   "id": "e7a89c48",
   "metadata": {},
   "outputs": [],
   "source": []
  }
 ],
 "metadata": {
  "kernelspec": {
   "display_name": "Python 3 (ipykernel)",
   "language": "python",
   "name": "python3"
  },
  "language_info": {
   "codemirror_mode": {
    "name": "ipython",
    "version": 3
   },
   "file_extension": ".py",
   "mimetype": "text/x-python",
   "name": "python",
   "nbconvert_exporter": "python",
   "pygments_lexer": "ipython3",
   "version": "3.11.4"
  }
 },
 "nbformat": 4,
 "nbformat_minor": 5
}
